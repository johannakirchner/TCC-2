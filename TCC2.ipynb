{
 "cells": [
  {
   "cell_type": "markdown",
   "metadata": {},
   "source": [
    "Entrar no venv `.\\tcc\\Scripts\\activate.bat`. Download Opencv em [Source Forge](https://sourceforge.net/projects/opencvlibrary/files/opencv-win/3.4.1/opencv-3.4.1-vc14_vc15.exe/download) e no caminho `build/x64/vc15/bin` possui os executáveis necessários.\n",
    "\n",
    "Com os executáveis, agora basta configurar o Dataset. Imagens negativas obtidas (8000 imagens) do Imagenet e imagens positivas que são só o corpo dos resistores. As imagens negativas são renomeadas e listadas em um txt com o seguinte script `renameNegatives.py`:"
   ]
  },
  {
   "cell_type": "code",
   "execution_count": null,
   "metadata": {},
   "outputs": [
    {
     "ename": "",
     "evalue": "",
     "output_type": "error",
     "traceback": [
      "\u001b[1;31mRunning cells with 'tcc (Python 3.13.2)' requires the ipykernel package.\n",
      "\u001b[1;31mInstall 'ipykernel' into the Python environment. \n",
      "\u001b[1;31mCommand: 'c:/Users/nana_/Desktop/2025.2/TCC2/tcc/Scripts/python.exe -m pip install ipykernel -U --force-reinstall'"
     ]
    }
   ],
   "source": [
    "import os\n",
    "\n",
    "# caminho para o diretório de imagens\n",
    "diretorio = \"data_set/negatives\"\n",
    "\n",
    "# lista os arquivos\n",
    "arquivos = os.listdir(diretorio)\n",
    "\n",
    "imagens = [arquivo for arquivo in arquivos]\n",
    "\n",
    "for indice, imagem in enumerate(imagens, start=1):\n",
    "    extensao = os.path.splitext(imagem)[1]\n",
    "    novo_nome = f\"{indice}{extensao}\"\n",
    "    caminho_antigo = os.path.join(diretorio, imagem)\n",
    "    caminho_novo = os.path.join(diretorio, novo_nome)\n",
    "    os.rename(caminho_antigo, caminho_novo)\n",
    "    print(f\"{imagem} renomeado para {novo_nome}\")\n",
    "\n",
    "# atualizar a lista de arquivos após renomeação\n",
    "arquivos = os.listdir(diretorio)\n",
    "\n",
    "# salvar a lista em um arquivo .txt\n",
    "with open(\"negatives/negatives.txt\", \"w\") as arquivo:\n",
    "    for nome in arquivos:\n",
    "        caminho_completo = os.path.join(diretorio, nome)\n",
    "        if os.path.isfile(caminho_completo):  # verifica se é um arquivo\n",
    "            arquivo.write(f\"{nome}\\n\")\n",
    "\n",
    "print(f\"Lista de arquivos salva\")"
   ]
  },
  {
   "cell_type": "markdown",
   "metadata": {},
   "source": [
    "Devido a erros de ROI na geração das imagens (no texto escrever garantir mesma resolução), é necessário executar o script `removeImagesDiffRes.py` que remove imagens que não estão no padrão de 224x224. Isso resultou na exclusão de 8000-6217 = 1783 imagens. Com isso, podemos executar o `opencv_createsamples.exe` passando as informações necessárias, resultando na geração de 1800 imagens positivas:"
   ]
  },
  {
   "cell_type": "code",
   "execution_count": null,
   "metadata": {},
   "outputs": [],
   "source": [
    "execs_opencv\\opencv_createsamples -img data_set/positives/resistor1.jpg -bg data_set/negatives/negatives.txt -info data_set/positives/positives.lst -maxxangle 0.5 -maxyangle 0.5 -maxzangle 0.5 -num 1800 -bgcolor 255 -bgthresh 8"
   ]
  },
  {
   "cell_type": "code",
   "execution_count": null,
   "metadata": {},
   "outputs": [],
   "source": [
    "execs_opencv\\opencv_createsamples -info data_set/positives/positives.lst -num 1800 -w 25 -h 25 -vec data_set/positives/positives.vec"
   ]
  },
  {
   "cell_type": "markdown",
   "metadata": {},
   "source": [
    "Esse penis desse comando não funciona atualmente."
   ]
  },
  {
   "cell_type": "code",
   "execution_count": null,
   "metadata": {},
   "outputs": [],
   "source": [
    "execs_opencv\\opencv_traincascade -data classificador -vec data_set/positives/positives.vec -bg data_set/negatives/negatives.txt -numPos 1300 -numNeg 800 -numStages 10 -precalcBufSize 4096 -precalcIdxBufSize 4096"
   ]
  }
 ],
 "metadata": {
  "kernelspec": {
   "display_name": "tcc",
   "language": "python",
   "name": "python3"
  },
  "language_info": {
   "name": "python",
   "version": "3.13.2"
  }
 },
 "nbformat": 4,
 "nbformat_minor": 2
}
